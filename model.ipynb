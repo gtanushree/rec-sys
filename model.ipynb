{
 "cells": [
  {
   "cell_type": "code",
   "execution_count": 1,
   "metadata": {},
   "outputs": [
    {
     "name": "stderr",
     "output_type": "stream",
     "text": [
      "c:\\Users\\gtanu\\anaconda3\\lib\\site-packages\\pandas\\core\\arrays\\masked.py:61: UserWarning: Pandas requires version '1.3.6' or newer of 'bottleneck' (version '1.3.5' currently installed).\n",
      "  from pandas.core import (\n"
     ]
    }
   ],
   "source": [
    "import pandas as pd\n",
    "from sklearn.feature_extraction.text import TfidfVectorizer\n",
    "from sklearn.neighbors import NearestNeighbors"
   ]
  },
  {
   "cell_type": "code",
   "execution_count": 2,
   "metadata": {},
   "outputs": [],
   "source": [
    "file_path = 'interaction_data.csv'\n",
    "dataset = pd.read_csv(file_path)"
   ]
  },
  {
   "cell_type": "code",
   "execution_count": 3,
   "metadata": {},
   "outputs": [
    {
     "name": "stdout",
     "output_type": "stream",
     "text": [
      "<class 'pandas.core.frame.DataFrame'>\n",
      "RangeIndex: 276000 entries, 0 to 275999\n",
      "Data columns (total 6 columns):\n",
      " #   Column             Non-Null Count   Dtype \n",
      "---  ------             --------------   ----- \n",
      " 0   student_id         276000 non-null  object\n",
      " 1   video_title        276000 non-null  object\n",
      " 2   video_link         276000 non-null  object\n",
      " 3   video_description  276000 non-null  object\n",
      " 4   video_tags         276000 non-null  object\n",
      " 5   interaction_type   276000 non-null  object\n",
      "dtypes: object(6)\n",
      "memory usage: 12.6+ MB\n"
     ]
    }
   ],
   "source": [
    "dataset.info()"
   ]
  },
  {
   "cell_type": "code",
   "execution_count": 4,
   "metadata": {},
   "outputs": [],
   "source": [
    "dataset = dataset.drop_duplicates(subset='video_title', keep='first').reset_index(drop=True)\n"
   ]
  },
  {
   "cell_type": "code",
   "execution_count": 5,
   "metadata": {},
   "outputs": [
    {
     "data": {
      "text/html": [
       "<div>\n",
       "<style scoped>\n",
       "    .dataframe tbody tr th:only-of-type {\n",
       "        vertical-align: middle;\n",
       "    }\n",
       "\n",
       "    .dataframe tbody tr th {\n",
       "        vertical-align: top;\n",
       "    }\n",
       "\n",
       "    .dataframe thead th {\n",
       "        text-align: right;\n",
       "    }\n",
       "</style>\n",
       "<table border=\"1\" class=\"dataframe\">\n",
       "  <thead>\n",
       "    <tr style=\"text-align: right;\">\n",
       "      <th></th>\n",
       "      <th>student_id</th>\n",
       "      <th>video_title</th>\n",
       "      <th>video_link</th>\n",
       "      <th>video_description</th>\n",
       "      <th>video_tags</th>\n",
       "      <th>interaction_type</th>\n",
       "    </tr>\n",
       "  </thead>\n",
       "  <tbody>\n",
       "    <tr>\n",
       "      <th>0</th>\n",
       "      <td>S1</td>\n",
       "      <td>Manzil 2025: CHEMICAL KINETICS in One Shot: Al...</td>\n",
       "      <td>https://www.youtube.com/watch?v=T0LFfBuifjk</td>\n",
       "      <td>A comprehensive one-shot session on Chemical K...</td>\n",
       "      <td>#ChemicalKinetics #JEEMain #JEEAdvanced #Phys...</td>\n",
       "      <td>liked</td>\n",
       "    </tr>\n",
       "    <tr>\n",
       "      <th>1</th>\n",
       "      <td>S1</td>\n",
       "      <td>ElecTroLySiS 01: Class 10 Chemistry ICSE</td>\n",
       "      <td>https://www.youtube.com/watch?v=BEBy1JvNq-A</td>\n",
       "      <td>A detailed explanation of Electrolysis for Cla...</td>\n",
       "      <td>#Electrolysis #Class10 #ICSE #PhysicsWallah #A...</td>\n",
       "      <td>commented</td>\n",
       "    </tr>\n",
       "    <tr>\n",
       "      <th>2</th>\n",
       "      <td>S1</td>\n",
       "      <td>MoLE ConCepT in 40 mins : CBSE / ICSE : CHEMIS...</td>\n",
       "      <td>https://www.youtube.com/watch?v=bI-yhj9WgxQ</td>\n",
       "      <td>A 40-minute explanation of the Mole Concept id...</td>\n",
       "      <td>#MoleConcept #CBSE #ICSE #PhysicsWallah #Alakh...</td>\n",
       "      <td>not watched</td>\n",
       "    </tr>\n",
       "    <tr>\n",
       "      <th>3</th>\n",
       "      <td>S1</td>\n",
       "      <td>Chemical Bonding 08 | Hybridisation | How to F...</td>\n",
       "      <td>https://www.youtube.com/watch?v=AvhUUY8yD08</td>\n",
       "      <td>This video explains the concept of Hybridisati...</td>\n",
       "      <td>#Hybridisation #ChemicalBonding #IITJEE #NEET ...</td>\n",
       "      <td>not watched</td>\n",
       "    </tr>\n",
       "    <tr>\n",
       "      <th>4</th>\n",
       "      <td>S1</td>\n",
       "      <td>Manzil 2025: CHEMICAL BONDING in One Shot: All...</td>\n",
       "      <td>https://www.youtube.com/watch?v=z2-EeL9Qvf4</td>\n",
       "      <td>A one-stop solution to mastering Chemical Bon...</td>\n",
       "      <td>#ChemicalBonding #JEEMain #JEEAdvanced #Manzil...</td>\n",
       "      <td>watched</td>\n",
       "    </tr>\n",
       "  </tbody>\n",
       "</table>\n",
       "</div>"
      ],
      "text/plain": [
       "  student_id                                        video_title  \\\n",
       "0         S1  Manzil 2025: CHEMICAL KINETICS in One Shot: Al...   \n",
       "1         S1           ElecTroLySiS 01: Class 10 Chemistry ICSE   \n",
       "2         S1  MoLE ConCepT in 40 mins : CBSE / ICSE : CHEMIS...   \n",
       "3         S1  Chemical Bonding 08 | Hybridisation | How to F...   \n",
       "4         S1  Manzil 2025: CHEMICAL BONDING in One Shot: All...   \n",
       "\n",
       "                                    video_link  \\\n",
       "0  https://www.youtube.com/watch?v=T0LFfBuifjk   \n",
       "1  https://www.youtube.com/watch?v=BEBy1JvNq-A   \n",
       "2  https://www.youtube.com/watch?v=bI-yhj9WgxQ   \n",
       "3  https://www.youtube.com/watch?v=AvhUUY8yD08   \n",
       "4  https://www.youtube.com/watch?v=z2-EeL9Qvf4   \n",
       "\n",
       "                                   video_description  \\\n",
       "0  A comprehensive one-shot session on Chemical K...   \n",
       "1  A detailed explanation of Electrolysis for Cla...   \n",
       "2  A 40-minute explanation of the Mole Concept id...   \n",
       "3  This video explains the concept of Hybridisati...   \n",
       "4   A one-stop solution to mastering Chemical Bon...   \n",
       "\n",
       "                                          video_tags interaction_type  \n",
       "0   #ChemicalKinetics #JEEMain #JEEAdvanced #Phys...            liked  \n",
       "1  #Electrolysis #Class10 #ICSE #PhysicsWallah #A...        commented  \n",
       "2  #MoleConcept #CBSE #ICSE #PhysicsWallah #Alakh...      not watched  \n",
       "3  #Hybridisation #ChemicalBonding #IITJEE #NEET ...      not watched  \n",
       "4  #ChemicalBonding #JEEMain #JEEAdvanced #Manzil...          watched  "
      ]
     },
     "execution_count": 5,
     "metadata": {},
     "output_type": "execute_result"
    }
   ],
   "source": [
    "dataset.head(5)"
   ]
  },
  {
   "cell_type": "code",
   "execution_count": 6,
   "metadata": {},
   "outputs": [
    {
     "data": {
      "text/html": [
       "<div>\n",
       "<style scoped>\n",
       "    .dataframe tbody tr th:only-of-type {\n",
       "        vertical-align: middle;\n",
       "    }\n",
       "\n",
       "    .dataframe tbody tr th {\n",
       "        vertical-align: top;\n",
       "    }\n",
       "\n",
       "    .dataframe thead th {\n",
       "        text-align: right;\n",
       "    }\n",
       "</style>\n",
       "<table border=\"1\" class=\"dataframe\">\n",
       "  <thead>\n",
       "    <tr style=\"text-align: right;\">\n",
       "      <th></th>\n",
       "      <th>student_id</th>\n",
       "      <th>video_title</th>\n",
       "      <th>video_link</th>\n",
       "      <th>video_description</th>\n",
       "      <th>video_tags</th>\n",
       "      <th>interaction_type</th>\n",
       "    </tr>\n",
       "  </thead>\n",
       "  <tbody>\n",
       "    <tr>\n",
       "      <th>87</th>\n",
       "      <td>S1</td>\n",
       "      <td>Electric Charges and Field | Class 12 Physics ...</td>\n",
       "      <td>https://www.youtube.com/watch?v=MVvHdH6n2VE</td>\n",
       "      <td>Anupam Sir delves into Electric Charges and Fi...</td>\n",
       "      <td>#electriccharges #fields #class12physics #anup...</td>\n",
       "      <td>commented</td>\n",
       "    </tr>\n",
       "    <tr>\n",
       "      <th>88</th>\n",
       "      <td>S1</td>\n",
       "      <td>Gravitation | one shot | AP SA1 | ONE SHOT | C...</td>\n",
       "      <td>https://www.youtube.com/watch?v=j9nSxCim93Q</td>\n",
       "      <td>Gayathri Ma’am provides a one-shot explanation...</td>\n",
       "      <td>#gravitation #class9physics #cbse #ap #gayathr...</td>\n",
       "      <td>liked</td>\n",
       "    </tr>\n",
       "    <tr>\n",
       "      <th>89</th>\n",
       "      <td>S1</td>\n",
       "      <td>Class 11 Physics NCERT Chapter 4 Vector in One...</td>\n",
       "      <td>https://www.youtube.com/watch?v=Nj10CUCUTwY</td>\n",
       "      <td>This session part of the Dahaad Series provide...</td>\n",
       "      <td>#class11physics #vectors #neet2026 #dahaadseri...</td>\n",
       "      <td>shared</td>\n",
       "    </tr>\n",
       "    <tr>\n",
       "      <th>90</th>\n",
       "      <td>S1</td>\n",
       "      <td>Electric Charges &amp; Fields Class 12 (L1) | Clas...</td>\n",
       "      <td>https://www.youtube.com/watch?v=F__Mbfyv7uQ</td>\n",
       "      <td>Anupam Sir covers the fundamentals of Electric...</td>\n",
       "      <td>#electriccharges #fields #class12physics #anup...</td>\n",
       "      <td>not watched</td>\n",
       "    </tr>\n",
       "    <tr>\n",
       "      <th>91</th>\n",
       "      <td>S1</td>\n",
       "      <td>Motion in 1D Lecture 1 | Physics NEET 2025 | A...</td>\n",
       "      <td>https://www.youtube.com/watch?v=5GRAW_aAztg</td>\n",
       "      <td>Gaurav Gupta Sir teaches the first lecture on ...</td>\n",
       "      <td>#motionin1d #neet2025 #neetscience #gauravgupt...</td>\n",
       "      <td>liked</td>\n",
       "    </tr>\n",
       "  </tbody>\n",
       "</table>\n",
       "</div>"
      ],
      "text/plain": [
       "   student_id                                        video_title  \\\n",
       "87         S1  Electric Charges and Field | Class 12 Physics ...   \n",
       "88         S1  Gravitation | one shot | AP SA1 | ONE SHOT | C...   \n",
       "89         S1  Class 11 Physics NCERT Chapter 4 Vector in One...   \n",
       "90         S1  Electric Charges & Fields Class 12 (L1) | Clas...   \n",
       "91         S1  Motion in 1D Lecture 1 | Physics NEET 2025 | A...   \n",
       "\n",
       "                                     video_link  \\\n",
       "87  https://www.youtube.com/watch?v=MVvHdH6n2VE   \n",
       "88  https://www.youtube.com/watch?v=j9nSxCim93Q   \n",
       "89  https://www.youtube.com/watch?v=Nj10CUCUTwY   \n",
       "90  https://www.youtube.com/watch?v=F__Mbfyv7uQ   \n",
       "91  https://www.youtube.com/watch?v=5GRAW_aAztg   \n",
       "\n",
       "                                    video_description  \\\n",
       "87  Anupam Sir delves into Electric Charges and Fi...   \n",
       "88  Gayathri Ma’am provides a one-shot explanation...   \n",
       "89  This session part of the Dahaad Series provide...   \n",
       "90  Anupam Sir covers the fundamentals of Electric...   \n",
       "91  Gaurav Gupta Sir teaches the first lecture on ...   \n",
       "\n",
       "                                           video_tags interaction_type  \n",
       "87  #electriccharges #fields #class12physics #anup...        commented  \n",
       "88  #gravitation #class9physics #cbse #ap #gayathr...            liked  \n",
       "89  #class11physics #vectors #neet2026 #dahaadseri...           shared  \n",
       "90  #electriccharges #fields #class12physics #anup...      not watched  \n",
       "91  #motionin1d #neet2025 #neetscience #gauravgupt...            liked  "
      ]
     },
     "execution_count": 6,
     "metadata": {},
     "output_type": "execute_result"
    }
   ],
   "source": [
    "dataset.tail(5)"
   ]
  },
  {
   "cell_type": "code",
   "execution_count": 5,
   "metadata": {},
   "outputs": [],
   "source": [
    "dataset['content'] = dataset['video_title'] + dataset['video_description'] + dataset['video_tags']\n"
   ]
  },
  {
   "cell_type": "code",
   "execution_count": 6,
   "metadata": {},
   "outputs": [],
   "source": [
    "tfidf_vectorizer = TfidfVectorizer(stop_words='english')\n",
    "tfidf_matrix = tfidf_vectorizer.fit_transform(dataset['content'])"
   ]
  },
  {
   "cell_type": "code",
   "execution_count": 7,
   "metadata": {},
   "outputs": [
    {
     "data": {
      "text/html": [
       "<style>#sk-container-id-1 {color: black;background-color: white;}#sk-container-id-1 pre{padding: 0;}#sk-container-id-1 div.sk-toggleable {background-color: white;}#sk-container-id-1 label.sk-toggleable__label {cursor: pointer;display: block;width: 100%;margin-bottom: 0;padding: 0.3em;box-sizing: border-box;text-align: center;}#sk-container-id-1 label.sk-toggleable__label-arrow:before {content: \"▸\";float: left;margin-right: 0.25em;color: #696969;}#sk-container-id-1 label.sk-toggleable__label-arrow:hover:before {color: black;}#sk-container-id-1 div.sk-estimator:hover label.sk-toggleable__label-arrow:before {color: black;}#sk-container-id-1 div.sk-toggleable__content {max-height: 0;max-width: 0;overflow: hidden;text-align: left;background-color: #f0f8ff;}#sk-container-id-1 div.sk-toggleable__content pre {margin: 0.2em;color: black;border-radius: 0.25em;background-color: #f0f8ff;}#sk-container-id-1 input.sk-toggleable__control:checked~div.sk-toggleable__content {max-height: 200px;max-width: 100%;overflow: auto;}#sk-container-id-1 input.sk-toggleable__control:checked~label.sk-toggleable__label-arrow:before {content: \"▾\";}#sk-container-id-1 div.sk-estimator input.sk-toggleable__control:checked~label.sk-toggleable__label {background-color: #d4ebff;}#sk-container-id-1 div.sk-label input.sk-toggleable__control:checked~label.sk-toggleable__label {background-color: #d4ebff;}#sk-container-id-1 input.sk-hidden--visually {border: 0;clip: rect(1px 1px 1px 1px);clip: rect(1px, 1px, 1px, 1px);height: 1px;margin: -1px;overflow: hidden;padding: 0;position: absolute;width: 1px;}#sk-container-id-1 div.sk-estimator {font-family: monospace;background-color: #f0f8ff;border: 1px dotted black;border-radius: 0.25em;box-sizing: border-box;margin-bottom: 0.5em;}#sk-container-id-1 div.sk-estimator:hover {background-color: #d4ebff;}#sk-container-id-1 div.sk-parallel-item::after {content: \"\";width: 100%;border-bottom: 1px solid gray;flex-grow: 1;}#sk-container-id-1 div.sk-label:hover label.sk-toggleable__label {background-color: #d4ebff;}#sk-container-id-1 div.sk-serial::before {content: \"\";position: absolute;border-left: 1px solid gray;box-sizing: border-box;top: 0;bottom: 0;left: 50%;z-index: 0;}#sk-container-id-1 div.sk-serial {display: flex;flex-direction: column;align-items: center;background-color: white;padding-right: 0.2em;padding-left: 0.2em;position: relative;}#sk-container-id-1 div.sk-item {position: relative;z-index: 1;}#sk-container-id-1 div.sk-parallel {display: flex;align-items: stretch;justify-content: center;background-color: white;position: relative;}#sk-container-id-1 div.sk-item::before, #sk-container-id-1 div.sk-parallel-item::before {content: \"\";position: absolute;border-left: 1px solid gray;box-sizing: border-box;top: 0;bottom: 0;left: 50%;z-index: -1;}#sk-container-id-1 div.sk-parallel-item {display: flex;flex-direction: column;z-index: 1;position: relative;background-color: white;}#sk-container-id-1 div.sk-parallel-item:first-child::after {align-self: flex-end;width: 50%;}#sk-container-id-1 div.sk-parallel-item:last-child::after {align-self: flex-start;width: 50%;}#sk-container-id-1 div.sk-parallel-item:only-child::after {width: 0;}#sk-container-id-1 div.sk-dashed-wrapped {border: 1px dashed gray;margin: 0 0.4em 0.5em 0.4em;box-sizing: border-box;padding-bottom: 0.4em;background-color: white;}#sk-container-id-1 div.sk-label label {font-family: monospace;font-weight: bold;display: inline-block;line-height: 1.2em;}#sk-container-id-1 div.sk-label-container {text-align: center;}#sk-container-id-1 div.sk-container {/* jupyter's `normalize.less` sets `[hidden] { display: none; }` but bootstrap.min.css set `[hidden] { display: none !important; }` so we also need the `!important` here to be able to override the default hidden behavior on the sphinx rendered scikit-learn.org. See: https://github.com/scikit-learn/scikit-learn/issues/21755 */display: inline-block !important;position: relative;}#sk-container-id-1 div.sk-text-repr-fallback {display: none;}</style><div id=\"sk-container-id-1\" class=\"sk-top-container\"><div class=\"sk-text-repr-fallback\"><pre>NearestNeighbors(algorithm=&#x27;brute&#x27;, metric=&#x27;cosine&#x27;, n_neighbors=10)</pre><b>In a Jupyter environment, please rerun this cell to show the HTML representation or trust the notebook. <br />On GitHub, the HTML representation is unable to render, please try loading this page with nbviewer.org.</b></div><div class=\"sk-container\" hidden><div class=\"sk-item\"><div class=\"sk-estimator sk-toggleable\"><input class=\"sk-toggleable__control sk-hidden--visually\" id=\"sk-estimator-id-1\" type=\"checkbox\" checked><label for=\"sk-estimator-id-1\" class=\"sk-toggleable__label sk-toggleable__label-arrow\">NearestNeighbors</label><div class=\"sk-toggleable__content\"><pre>NearestNeighbors(algorithm=&#x27;brute&#x27;, metric=&#x27;cosine&#x27;, n_neighbors=10)</pre></div></div></div></div></div>"
      ],
      "text/plain": [
       "NearestNeighbors(algorithm='brute', metric='cosine', n_neighbors=10)"
      ]
     },
     "execution_count": 7,
     "metadata": {},
     "output_type": "execute_result"
    }
   ],
   "source": [
    "nn_model = NearestNeighbors(metric='cosine', algorithm='brute', n_neighbors=10)  # More neighbors to handle duplicates\n",
    "nn_model.fit(tfidf_matrix)"
   ]
  },
  {
   "cell_type": "code",
   "execution_count": 8,
   "metadata": {},
   "outputs": [],
   "source": [
    "def recommend_videos(video_title, num_recommendations=5):\n",
    "    try:\n",
    "        idx = dataset[dataset['video_title'] == video_title].index[0]\n",
    "    except IndexError:\n",
    "        return \"Video title not found in the dataset.\"\n",
    "\n",
    "    distances, indices = nn_model.kneighbors(tfidf_matrix[idx], n_neighbors=10)  \n",
    "\n",
    "    similar_indices = indices.flatten()[1:]\n",
    "\n",
    "    recommended_videos = dataset.iloc[similar_indices][['video_title', 'video_link']].drop_duplicates().head(num_recommendations)\n",
    "\n",
    "    if recommended_videos.empty:\n",
    "        return \"No sufficient recommendations available.\"\n",
    "    \n",
    "    return recommended_videos.to_dict(orient='records')"
   ]
  },
  {
   "cell_type": "code",
   "execution_count": 9,
   "metadata": {},
   "outputs": [],
   "source": [
    "example_title = dataset['video_title'].iloc[69]  \n",
    "recommendations = recommend_videos(example_title, num_recommendations=5)"
   ]
  },
  {
   "cell_type": "code",
   "execution_count": 10,
   "metadata": {},
   "outputs": [
    {
     "name": "stdout",
     "output_type": "stream",
     "text": [
      "Recommendations:\n",
      "1. Basic Mathematics Class 11 | Lecture 2 | JEE Main | JEE Advanced |Arvind Kalia Sir| Vedantu - https://www.youtube.com/watch?v=eCPAG522Xd4\n",
      "2. Relations & Functions Full Chapter | Class 11 Maths Chapter 2 | JEE 2025 Maths | Harsh Sir - https://www.youtube.com/watch?v=SWjh91DSVbk\n",
      "3. Sets Full Chapter | Class 11 Maths Chapter 1 | JEE 2025 Maths | Harsh Sir - https://www.youtube.com/watch?v=1rr6yrqhskg\n",
      "4. Master Algebra for JEE Main & Advanced - https://www.youtube.com/watch?v=j6NBRQ_FrNE\n",
      "5. JEE Mains 2025: Coordinate Geometry - Vector 3D Prerequisite- GEOMETRY | JEE Advanced & Main | Ep-2 - https://www.youtube.com/watch?v=HcqMtl0RtaY\n"
     ]
    }
   ],
   "source": [
    "print(\"Recommendations:\")\n",
    "for idx, rec in enumerate(recommendations, 1):\n",
    "    print(f\"{idx}. {rec['video_title']} - {rec['video_link']}\")"
   ]
  },
  {
   "cell_type": "code",
   "execution_count": 13,
   "metadata": {},
   "outputs": [
    {
     "name": "stdout",
     "output_type": "stream",
     "text": [
      "Requirement already satisfied: joblib in c:\\users\\gtanu\\anaconda3\\lib\\site-packages (1.1.1)\n"
     ]
    }
   ],
   "source": [
    "!pip install joblib"
   ]
  },
  {
   "cell_type": "code",
   "execution_count": 14,
   "metadata": {},
   "outputs": [
    {
     "name": "stdout",
     "output_type": "stream",
     "text": [
      "Model and vectorizer saved successfully!\n"
     ]
    }
   ],
   "source": [
    "import joblib\n",
    "joblib.dump(nn_model, 'nearest_neighbors_model.pkl')\n",
    "joblib.dump(tfidf_vectorizer, 'tfidf_vectorizer.pkl')\n",
    "\n",
    "print(\"Model and vectorizer saved successfully!\")"
   ]
  }
 ],
 "metadata": {
  "kernelspec": {
   "display_name": "base",
   "language": "python",
   "name": "python3"
  },
  "language_info": {
   "codemirror_mode": {
    "name": "ipython",
    "version": 3
   },
   "file_extension": ".py",
   "mimetype": "text/x-python",
   "name": "python",
   "nbconvert_exporter": "python",
   "pygments_lexer": "ipython3",
   "version": "3.10.9"
  }
 },
 "nbformat": 4,
 "nbformat_minor": 2
}
